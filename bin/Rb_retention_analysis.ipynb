{
 "cells": [
  {
   "cell_type": "code",
   "execution_count": 1,
   "metadata": {
    "collapsed": false,
    "deletable": true,
    "editable": true
   },
   "outputs": [],
   "source": [
    "%matplotlib notebook\n",
    "from QDP import qdp\n",
    "import os.path\n",
    "import numpy as np\n",
    "from scipy.stats import poisson\n",
    "import h5py\n",
    "import matplotlib.pyplot as plt\n",
    "from scipy.optimize import leastsq,curve_fit"
   ]
  },
  {
   "cell_type": "code",
   "execution_count": 2,
   "metadata": {
    "collapsed": false,
    "deletable": true,
    "editable": true
   },
   "outputs": [
    {
     "name": "stderr",
     "output_type": "stream",
     "text": [
      "C:\\Users\\Rb\\AppData\\Local\\Enthought\\Canopy\\User\\lib\\site-packages\\numpy\\core\\fromnumeric.py:2909: RuntimeWarning: Mean of empty slice.\n",
      "  out=out, **kwargs)\n",
      "C:\\Users\\Rb\\AppData\\Local\\Enthought\\Canopy\\User\\lib\\site-packages\\numpy\\core\\_methods.py:80: RuntimeWarning: invalid value encountered in double_scalars\n",
      "  ret = ret.dtype.type(ret / rcount)\n"
     ]
    }
   ],
   "source": [
    "#analysis_master_path='Y:/Rb/Analysis/' # Y:\\ is network drive connected to Hexagon E:\\Rb\\\n",
    "\n",
    "exp_id='2018_02_06_15_02_40_Microwave RFE'\n",
    "data_master_path='D:/Data/' # D:\\ is local SSD in the main experiment computer\n",
    "exp_date=\"_\".join(exp_id.split(\"_\")[:3]) # Date folder name automatically generated from exp name.\n",
    "exp_path=data_master_path+exp_date+'/'+exp_id+'/'\n",
    "experiment_file='results.hdf5'\n",
    "dp=exp_path\n",
    "cuts = [[450],[450],[450]]\n",
    "\n",
    "q = qdp.QDP(base_data_path=dp)\n",
    "q.load_data_file(experiment_file)\n",
    "for r in range(5):\n",
    "    q.set_thresholds(cuts, roi=r)"
   ]
  },
  {
   "cell_type": "code",
   "execution_count": 3,
   "metadata": {
    "collapsed": false,
    "deletable": true,
    "editable": true,
    "scrolled": true
   },
   "outputs": [
    {
     "name": "stdout",
     "output_type": "stream",
     "text": [
      "[u't_microwave']\n",
      "microwave duration (ms)\n"
     ]
    }
   ],
   "source": [
    "print q.experiments[0]['variable_list']\n",
    "xlab = q.experiments[0]['variable_desc'][q.experiments[0]['variable_list'][0]]['description']\n",
    "print xlab"
   ]
  },
  {
   "cell_type": "code",
   "execution_count": 4,
   "metadata": {
    "collapsed": false,
    "deletable": true,
    "editable": true,
    "scrolled": false
   },
   "outputs": [
    {
     "name": "stdout",
     "output_type": "stream",
     "text": [
      "[[[ 0.          0.          0.          0.          0.        ]\n",
      "  [ 0.09333333  0.05095541  0.07042254  0.09090909  0.11764706]\n",
      "  [ 0.25        0.23863636  0.22535211  0.5         0.22727273]\n",
      "  [ 0.46590909  0.47794118  0.55714286  0.4         0.46666667]\n",
      "  [ 0.5915493   0.7443609   0.82857143  0.54545455  0.72727273]\n",
      "  [ 0.65625     0.8372093   0.87142857  0.91666667  0.72222222]\n",
      "  [ 0.70652174  0.81609195  0.87142857  0.69565217  0.65      ]\n",
      "  [ 0.5212766   0.58381503  0.74285714  0.65217391  0.36      ]\n",
      "  [ 0.31764706  0.375       0.34285714  0.39130435  0.17647059]\n",
      "  [ 0.10989011  0.15384615  0.14285714  0.18518519  0.21428571]\n",
      "  [ 0.          0.0390625   0.          0.          0.09090909]\n",
      "  [ 0.03797468  0.06060606  0.05714286  0.0952381   0.        ]\n",
      "  [ 0.16049383  0.25824176  0.28169014  0.22222222  0.2       ]\n",
      "  [ 0.44736842  0.53061224  0.42857143  0.6         0.5       ]\n",
      "  [ 0.55405405  0.61654135  0.74285714  0.8125      0.75      ]\n",
      "  [ 0.6025641   0.79881657  0.85714286  0.8         0.85      ]\n",
      "  [ 0.65384615  0.86419753  0.85714286  0.82142857  0.78947368]\n",
      "  [ 0.48809524  0.71153846  0.6         0.5483871   0.6875    ]\n",
      "  [ 0.3908046   0.39534884  0.53521127  0.40909091  0.32258065]\n",
      "  [ 0.11320755  0.15458937  0.21428571  0.44        0.16666667]\n",
      "  [ 0.          0.05714286  0.02857143  0.08        0.        ]]]\n",
      "[[[ 0.    0.    0.    0.    0.  ]\n",
      "  [ 0.05  0.05  0.05  0.05  0.05]\n",
      "  [ 0.1   0.1   0.1   0.1   0.1 ]\n",
      "  [ 0.15  0.15  0.15  0.15  0.15]\n",
      "  [ 0.2   0.2   0.2   0.2   0.2 ]\n",
      "  [ 0.25  0.25  0.25  0.25  0.25]\n",
      "  [ 0.3   0.3   0.3   0.3   0.3 ]\n",
      "  [ 0.35  0.35  0.35  0.35  0.35]\n",
      "  [ 0.4   0.4   0.4   0.4   0.4 ]\n",
      "  [ 0.45  0.45  0.45  0.45  0.45]\n",
      "  [ 0.5   0.5   0.5   0.5   0.5 ]\n",
      "  [ 0.55  0.55  0.55  0.55  0.55]\n",
      "  [ 0.6   0.6   0.6   0.6   0.6 ]\n",
      "  [ 0.65  0.65  0.65  0.65  0.65]\n",
      "  [ 0.7   0.7   0.7   0.7   0.7 ]\n",
      "  [ 0.75  0.75  0.75  0.75  0.75]\n",
      "  [ 0.8   0.8   0.8   0.8   0.8 ]\n",
      "  [ 0.85  0.85  0.85  0.85  0.85]\n",
      "  [ 0.9   0.9   0.9   0.9   0.9 ]\n",
      "  [ 0.95  0.95  0.95  0.95  0.95]\n",
      "  [ 1.    1.    1.    1.    1.  ]]]\n"
     ]
    }
   ],
   "source": [
    "retention = q.apply_thresholds()\n",
    "print q.get_retention()['retention']\n",
    "print retention['ivar']\n"
   ]
  },
  {
   "cell_type": "code",
   "execution_count": 15,
   "metadata": {
    "collapsed": false
   },
   "outputs": [
    {
     "name": "stdout",
     "output_type": "stream",
     "text": [
      "{'loading': array([[[ 0.  ,  0.  ,  0.  ,  0.  ,  0.  ],\n",
      "        [ 0.05,  0.05,  0.05,  0.05,  0.05],\n",
      "        [ 0.1 ,  0.1 ,  0.1 ,  0.1 ,  0.1 ],\n",
      "        [ 0.15,  0.15,  0.15,  0.15,  0.15],\n",
      "        [ 0.2 ,  0.2 ,  0.2 ,  0.2 ,  0.2 ],\n",
      "        [ 0.25,  0.25,  0.25,  0.25,  0.25],\n",
      "        [ 0.3 ,  0.3 ,  0.3 ,  0.3 ,  0.3 ],\n",
      "        [ 0.35,  0.35,  0.35,  0.35,  0.35],\n",
      "        [ 0.4 ,  0.4 ,  0.4 ,  0.4 ,  0.4 ],\n",
      "        [ 0.45,  0.45,  0.45,  0.45,  0.45],\n",
      "        [ 0.5 ,  0.5 ,  0.5 ,  0.5 ,  0.5 ],\n",
      "        [ 0.55,  0.55,  0.55,  0.55,  0.55],\n",
      "        [ 0.6 ,  0.6 ,  0.6 ,  0.6 ,  0.6 ],\n",
      "        [ 0.65,  0.65,  0.65,  0.65,  0.65],\n",
      "        [ 0.7 ,  0.7 ,  0.7 ,  0.7 ,  0.7 ],\n",
      "        [ 0.75,  0.75,  0.75,  0.75,  0.75],\n",
      "        [ 0.8 ,  0.8 ,  0.8 ,  0.8 ,  0.8 ],\n",
      "        [ 0.85,  0.85,  0.85,  0.85,  0.85],\n",
      "        [ 0.9 ,  0.9 ,  0.9 ,  0.9 ,  0.9 ],\n",
      "        [ 0.95,  0.95,  0.95,  0.95,  0.95],\n",
      "        [ 1.  ,  1.  ,  1.  ,  1.  ,  1.  ]]]), 'ivar': array([[[ 0.  ,  0.  ,  0.  ,  0.  ,  0.  ],\n",
      "        [ 0.05,  0.05,  0.05,  0.05,  0.05],\n",
      "        [ 0.1 ,  0.1 ,  0.1 ,  0.1 ,  0.1 ],\n",
      "        [ 0.15,  0.15,  0.15,  0.15,  0.15],\n",
      "        [ 0.2 ,  0.2 ,  0.2 ,  0.2 ,  0.2 ],\n",
      "        [ 0.25,  0.25,  0.25,  0.25,  0.25],\n",
      "        [ 0.3 ,  0.3 ,  0.3 ,  0.3 ,  0.3 ],\n",
      "        [ 0.35,  0.35,  0.35,  0.35,  0.35],\n",
      "        [ 0.4 ,  0.4 ,  0.4 ,  0.4 ,  0.4 ],\n",
      "        [ 0.45,  0.45,  0.45,  0.45,  0.45],\n",
      "        [ 0.5 ,  0.5 ,  0.5 ,  0.5 ,  0.5 ],\n",
      "        [ 0.55,  0.55,  0.55,  0.55,  0.55],\n",
      "        [ 0.6 ,  0.6 ,  0.6 ,  0.6 ,  0.6 ],\n",
      "        [ 0.65,  0.65,  0.65,  0.65,  0.65],\n",
      "        [ 0.7 ,  0.7 ,  0.7 ,  0.7 ,  0.7 ],\n",
      "        [ 0.75,  0.75,  0.75,  0.75,  0.75],\n",
      "        [ 0.8 ,  0.8 ,  0.8 ,  0.8 ,  0.8 ],\n",
      "        [ 0.85,  0.85,  0.85,  0.85,  0.85],\n",
      "        [ 0.9 ,  0.9 ,  0.9 ,  0.9 ,  0.9 ],\n",
      "        [ 0.95,  0.95,  0.95,  0.95,  0.95],\n",
      "        [ 1.  ,  1.  ,  1.  ,  1.  ,  1.  ]]]), 'error': array([[[ 0.  ,  0.  ,  0.  ,  0.  ,  0.  ],\n",
      "        [ 0.05,  0.05,  0.05,  0.05,  0.05],\n",
      "        [ 0.1 ,  0.1 ,  0.1 ,  0.1 ,  0.1 ],\n",
      "        [ 0.15,  0.15,  0.15,  0.15,  0.15],\n",
      "        [ 0.2 ,  0.2 ,  0.2 ,  0.2 ,  0.2 ],\n",
      "        [ 0.25,  0.25,  0.25,  0.25,  0.25],\n",
      "        [ 0.3 ,  0.3 ,  0.3 ,  0.3 ,  0.3 ],\n",
      "        [ 0.35,  0.35,  0.35,  0.35,  0.35],\n",
      "        [ 0.4 ,  0.4 ,  0.4 ,  0.4 ,  0.4 ],\n",
      "        [ 0.45,  0.45,  0.45,  0.45,  0.45],\n",
      "        [ 0.5 ,  0.5 ,  0.5 ,  0.5 ,  0.5 ],\n",
      "        [ 0.55,  0.55,  0.55,  0.55,  0.55],\n",
      "        [ 0.6 ,  0.6 ,  0.6 ,  0.6 ,  0.6 ],\n",
      "        [ 0.65,  0.65,  0.65,  0.65,  0.65],\n",
      "        [ 0.7 ,  0.7 ,  0.7 ,  0.7 ,  0.7 ],\n",
      "        [ 0.75,  0.75,  0.75,  0.75,  0.75],\n",
      "        [ 0.8 ,  0.8 ,  0.8 ,  0.8 ,  0.8 ],\n",
      "        [ 0.85,  0.85,  0.85,  0.85,  0.85],\n",
      "        [ 0.9 ,  0.9 ,  0.9 ,  0.9 ,  0.9 ],\n",
      "        [ 0.95,  0.95,  0.95,  0.95,  0.95],\n",
      "        [ 1.  ,  1.  ,  1.  ,  1.  ,  1.  ]]]), 'retention': array([[[ 0.  ,  0.  ,  0.  ,  0.  ,  0.  ],\n",
      "        [ 0.05,  0.05,  0.05,  0.05,  0.05],\n",
      "        [ 0.1 ,  0.1 ,  0.1 ,  0.1 ,  0.1 ],\n",
      "        [ 0.15,  0.15,  0.15,  0.15,  0.15],\n",
      "        [ 0.2 ,  0.2 ,  0.2 ,  0.2 ,  0.2 ],\n",
      "        [ 0.25,  0.25,  0.25,  0.25,  0.25],\n",
      "        [ 0.3 ,  0.3 ,  0.3 ,  0.3 ,  0.3 ],\n",
      "        [ 0.35,  0.35,  0.35,  0.35,  0.35],\n",
      "        [ 0.4 ,  0.4 ,  0.4 ,  0.4 ,  0.4 ],\n",
      "        [ 0.45,  0.45,  0.45,  0.45,  0.45],\n",
      "        [ 0.5 ,  0.5 ,  0.5 ,  0.5 ,  0.5 ],\n",
      "        [ 0.55,  0.55,  0.55,  0.55,  0.55],\n",
      "        [ 0.6 ,  0.6 ,  0.6 ,  0.6 ,  0.6 ],\n",
      "        [ 0.65,  0.65,  0.65,  0.65,  0.65],\n",
      "        [ 0.7 ,  0.7 ,  0.7 ,  0.7 ,  0.7 ],\n",
      "        [ 0.75,  0.75,  0.75,  0.75,  0.75],\n",
      "        [ 0.8 ,  0.8 ,  0.8 ,  0.8 ,  0.8 ],\n",
      "        [ 0.85,  0.85,  0.85,  0.85,  0.85],\n",
      "        [ 0.9 ,  0.9 ,  0.9 ,  0.9 ,  0.9 ],\n",
      "        [ 0.95,  0.95,  0.95,  0.95,  0.95],\n",
      "        [ 1.  ,  1.  ,  1.  ,  1.  ,  1.  ]]])}\n"
     ]
    }
   ],
   "source": [
    "print q.get_retention()"
   ]
  },
  {
   "cell_type": "code",
   "execution_count": 5,
   "metadata": {
    "collapsed": false
   },
   "outputs": [
    {
     "name": "stdout",
     "output_type": "stream",
     "text": [
      "0\n",
      "1\n",
      "2\n",
      "3\n",
      "4\n",
      "5\n",
      "6\n",
      "7\n",
      "8\n",
      "9\n",
      "10\n",
      "11\n",
      "12\n",
      "13\n",
      "14\n",
      "15\n",
      "16\n",
      "17\n",
      "18\n",
      "19\n",
      "20\n",
      "[[[ nan  nan  nan  nan  nan]\n",
      "  [ nan  nan  nan  nan  nan]\n",
      "  [ nan  nan  nan  nan  nan]\n",
      "  [ nan  nan  nan  nan  nan]\n",
      "  [ nan  nan  nan  nan  nan]\n",
      "  [ nan  nan  nan  nan  nan]\n",
      "  [ nan  nan  nan  nan  nan]\n",
      "  [ nan  nan  nan  nan  nan]\n",
      "  [ nan  nan  nan  nan  nan]\n",
      "  [ nan  nan  nan  nan  nan]\n",
      "  [ nan  nan  nan  nan  nan]\n",
      "  [ nan  nan  nan  nan  nan]\n",
      "  [ nan  nan  nan  nan  nan]\n",
      "  [ nan  nan  nan  nan  nan]\n",
      "  [ nan  nan  nan  nan  nan]\n",
      "  [ nan  nan  nan  nan  nan]\n",
      "  [ nan  nan  nan  nan  nan]\n",
      "  [ nan  nan  nan  nan  nan]\n",
      "  [ nan  nan  nan  nan  nan]\n",
      "  [ nan  nan  nan  nan  nan]\n",
      "  [ nan  nan  nan  nan  nan]]]\n"
     ]
    }
   ],
   "source": []
  },
  {
   "cell_type": "code",
   "execution_count": null,
   "metadata": {
    "collapsed": true
   },
   "outputs": [],
   "source": []
  }
 ],
 "metadata": {
  "kernelspec": {
   "display_name": "Python 2",
   "language": "python",
   "name": "python2"
  },
  "language_info": {
   "codemirror_mode": {
    "name": "ipython",
    "version": 2
   },
   "file_extension": ".py",
   "mimetype": "text/x-python",
   "name": "python",
   "nbconvert_exporter": "python",
   "pygments_lexer": "ipython2",
   "version": "2.7.11"
  }
 },
 "nbformat": 4,
 "nbformat_minor": 2
}
